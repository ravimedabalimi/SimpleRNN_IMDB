{
 "cells": [
  {
   "cell_type": "code",
   "execution_count": 8,
   "id": "7f4bbf7a-577d-4f18-9620-4e866a159db6",
   "metadata": {},
   "outputs": [],
   "source": [
    "from keras.models import load_model\n",
    "from tensorflow.keras.datasets import imdb\n",
    "from tensorflow.keras.preprocessing import sequence"
   ]
  },
  {
   "cell_type": "code",
   "execution_count": 2,
   "id": "abc8e1d5-02e7-4094-a9fc-5a75d60269f7",
   "metadata": {},
   "outputs": [
    {
     "name": "stderr",
     "output_type": "stream",
     "text": [
      "2025-05-17 19:28:22.305711: I metal_plugin/src/device/metal_device.cc:1154] Metal device set to: Apple M1\n",
      "2025-05-17 19:28:22.306389: I metal_plugin/src/device/metal_device.cc:296] systemMemory: 8.00 GB\n",
      "2025-05-17 19:28:22.306478: I metal_plugin/src/device/metal_device.cc:313] maxCacheSize: 2.67 GB\n",
      "WARNING: All log messages before absl::InitializeLog() is called are written to STDERR\n",
      "I0000 00:00:1747490302.307549  303976 pluggable_device_factory.cc:305] Could not identify NUMA node of platform GPU ID 0, defaulting to 0. Your kernel may not have been built with NUMA support.\n",
      "I0000 00:00:1747490302.308987  303976 pluggable_device_factory.cc:271] Created TensorFlow device (/job:localhost/replica:0/task:0/device:GPU:0 with 0 MB memory) -> physical PluggableDevice (device: 0, name: METAL, pci bus id: <undefined>)\n",
      "WARNING:absl:Compiled the loaded model, but the compiled metrics have yet to be built. `model.compile_metrics` will be empty until you train or evaluate the model.\n"
     ]
    },
    {
     "data": {
      "text/html": [
       "<pre style=\"white-space:pre;overflow-x:auto;line-height:normal;font-family:Menlo,'DejaVu Sans Mono',consolas,'Courier New',monospace\"><span style=\"font-weight: bold\">Model: \"sequential\"</span>\n",
       "</pre>\n"
      ],
      "text/plain": [
       "\u001b[1mModel: \"sequential\"\u001b[0m\n"
      ]
     },
     "metadata": {},
     "output_type": "display_data"
    },
    {
     "data": {
      "text/html": [
       "<pre style=\"white-space:pre;overflow-x:auto;line-height:normal;font-family:Menlo,'DejaVu Sans Mono',consolas,'Courier New',monospace\">┏━━━━━━━━━━━━━━━━━━━━━━━━━━━━━━━━━┳━━━━━━━━━━━━━━━━━━━━━━━━┳━━━━━━━━━━━━━━━┓\n",
       "┃<span style=\"font-weight: bold\"> Layer (type)                    </span>┃<span style=\"font-weight: bold\"> Output Shape           </span>┃<span style=\"font-weight: bold\">       Param # </span>┃\n",
       "┡━━━━━━━━━━━━━━━━━━━━━━━━━━━━━━━━━╇━━━━━━━━━━━━━━━━━━━━━━━━╇━━━━━━━━━━━━━━━┩\n",
       "│ embedding (<span style=\"color: #0087ff; text-decoration-color: #0087ff\">Embedding</span>)           │ (<span style=\"color: #00af00; text-decoration-color: #00af00\">32</span>, <span style=\"color: #00af00; text-decoration-color: #00af00\">500</span>, <span style=\"color: #00af00; text-decoration-color: #00af00\">128</span>)         │     <span style=\"color: #00af00; text-decoration-color: #00af00\">1,280,000</span> │\n",
       "├─────────────────────────────────┼────────────────────────┼───────────────┤\n",
       "│ simple_rnn (<span style=\"color: #0087ff; text-decoration-color: #0087ff\">SimpleRNN</span>)          │ (<span style=\"color: #00af00; text-decoration-color: #00af00\">32</span>, <span style=\"color: #00af00; text-decoration-color: #00af00\">128</span>)              │        <span style=\"color: #00af00; text-decoration-color: #00af00\">32,896</span> │\n",
       "├─────────────────────────────────┼────────────────────────┼───────────────┤\n",
       "│ dense (<span style=\"color: #0087ff; text-decoration-color: #0087ff\">Dense</span>)                   │ (<span style=\"color: #00af00; text-decoration-color: #00af00\">32</span>, <span style=\"color: #00af00; text-decoration-color: #00af00\">1</span>)                │           <span style=\"color: #00af00; text-decoration-color: #00af00\">129</span> │\n",
       "└─────────────────────────────────┴────────────────────────┴───────────────┘\n",
       "</pre>\n"
      ],
      "text/plain": [
       "┏━━━━━━━━━━━━━━━━━━━━━━━━━━━━━━━━━┳━━━━━━━━━━━━━━━━━━━━━━━━┳━━━━━━━━━━━━━━━┓\n",
       "┃\u001b[1m \u001b[0m\u001b[1mLayer (type)                   \u001b[0m\u001b[1m \u001b[0m┃\u001b[1m \u001b[0m\u001b[1mOutput Shape          \u001b[0m\u001b[1m \u001b[0m┃\u001b[1m \u001b[0m\u001b[1m      Param #\u001b[0m\u001b[1m \u001b[0m┃\n",
       "┡━━━━━━━━━━━━━━━━━━━━━━━━━━━━━━━━━╇━━━━━━━━━━━━━━━━━━━━━━━━╇━━━━━━━━━━━━━━━┩\n",
       "│ embedding (\u001b[38;5;33mEmbedding\u001b[0m)           │ (\u001b[38;5;34m32\u001b[0m, \u001b[38;5;34m500\u001b[0m, \u001b[38;5;34m128\u001b[0m)         │     \u001b[38;5;34m1,280,000\u001b[0m │\n",
       "├─────────────────────────────────┼────────────────────────┼───────────────┤\n",
       "│ simple_rnn (\u001b[38;5;33mSimpleRNN\u001b[0m)          │ (\u001b[38;5;34m32\u001b[0m, \u001b[38;5;34m128\u001b[0m)              │        \u001b[38;5;34m32,896\u001b[0m │\n",
       "├─────────────────────────────────┼────────────────────────┼───────────────┤\n",
       "│ dense (\u001b[38;5;33mDense\u001b[0m)                   │ (\u001b[38;5;34m32\u001b[0m, \u001b[38;5;34m1\u001b[0m)                │           \u001b[38;5;34m129\u001b[0m │\n",
       "└─────────────────────────────────┴────────────────────────┴───────────────┘\n"
      ]
     },
     "metadata": {},
     "output_type": "display_data"
    },
    {
     "data": {
      "text/html": [
       "<pre style=\"white-space:pre;overflow-x:auto;line-height:normal;font-family:Menlo,'DejaVu Sans Mono',consolas,'Courier New',monospace\"><span style=\"font-weight: bold\"> Total params: </span><span style=\"color: #00af00; text-decoration-color: #00af00\">1,313,027</span> (5.01 MB)\n",
       "</pre>\n"
      ],
      "text/plain": [
       "\u001b[1m Total params: \u001b[0m\u001b[38;5;34m1,313,027\u001b[0m (5.01 MB)\n"
      ]
     },
     "metadata": {},
     "output_type": "display_data"
    },
    {
     "data": {
      "text/html": [
       "<pre style=\"white-space:pre;overflow-x:auto;line-height:normal;font-family:Menlo,'DejaVu Sans Mono',consolas,'Courier New',monospace\"><span style=\"font-weight: bold\"> Trainable params: </span><span style=\"color: #00af00; text-decoration-color: #00af00\">1,313,025</span> (5.01 MB)\n",
       "</pre>\n"
      ],
      "text/plain": [
       "\u001b[1m Trainable params: \u001b[0m\u001b[38;5;34m1,313,025\u001b[0m (5.01 MB)\n"
      ]
     },
     "metadata": {},
     "output_type": "display_data"
    },
    {
     "data": {
      "text/html": [
       "<pre style=\"white-space:pre;overflow-x:auto;line-height:normal;font-family:Menlo,'DejaVu Sans Mono',consolas,'Courier New',monospace\"><span style=\"font-weight: bold\"> Non-trainable params: </span><span style=\"color: #00af00; text-decoration-color: #00af00\">0</span> (0.00 B)\n",
       "</pre>\n"
      ],
      "text/plain": [
       "\u001b[1m Non-trainable params: \u001b[0m\u001b[38;5;34m0\u001b[0m (0.00 B)\n"
      ]
     },
     "metadata": {},
     "output_type": "display_data"
    },
    {
     "data": {
      "text/html": [
       "<pre style=\"white-space:pre;overflow-x:auto;line-height:normal;font-family:Menlo,'DejaVu Sans Mono',consolas,'Courier New',monospace\"><span style=\"font-weight: bold\"> Optimizer params: </span><span style=\"color: #00af00; text-decoration-color: #00af00\">2</span> (12.00 B)\n",
       "</pre>\n"
      ],
      "text/plain": [
       "\u001b[1m Optimizer params: \u001b[0m\u001b[38;5;34m2\u001b[0m (12.00 B)\n"
      ]
     },
     "metadata": {},
     "output_type": "display_data"
    }
   ],
   "source": [
    "model = load_model('./simple_rnn_imdb.h5')\n",
    "model.summary()"
   ]
  },
  {
   "cell_type": "code",
   "execution_count": 3,
   "id": "4e041d4b-5cd0-4173-b2c8-6f23f6f18330",
   "metadata": {},
   "outputs": [
    {
     "data": {
      "text/plain": [
       "[array([[-0.4085313 ,  0.6511995 , -0.66831845, ...,  0.159736  ,\n",
       "          0.57954925, -0.5807339 ],\n",
       "        [-0.06343655,  0.08853569, -0.02664194, ..., -0.0492409 ,\n",
       "          0.00814788, -0.06266458],\n",
       "        [-0.02274999,  0.10068136, -0.07981072, ...,  0.05501684,\n",
       "          0.05334917, -0.05065951],\n",
       "        ...,\n",
       "        [-0.01735821, -0.06331033,  0.03049495, ...,  0.00759057,\n",
       "         -0.02016005,  0.0136216 ],\n",
       "        [ 0.0229443 ,  0.07240846,  0.02609745, ..., -0.00828356,\n",
       "         -0.05128346,  0.05849531],\n",
       "        [ 0.03244672, -0.06112115,  0.06652319, ..., -0.0159819 ,\n",
       "          0.00856343,  0.00846184]], dtype=float32),\n",
       " array([[-0.04953005, -0.03271702, -0.05578732, ..., -0.00405387,\n",
       "          0.01836833, -0.02541094],\n",
       "        [ 0.04473641, -0.13821106, -0.02581307, ...,  0.12455356,\n",
       "          0.06719266,  0.03191964],\n",
       "        [ 0.13183406,  0.07221784,  0.12914678, ..., -0.01893231,\n",
       "         -0.06264122, -0.12844695],\n",
       "        ...,\n",
       "        [-0.10203364, -0.05568112,  0.1532405 , ...,  0.03209282,\n",
       "         -0.11933924, -0.1353813 ],\n",
       "        [-0.01360775, -0.02675665,  0.07689489, ...,  0.14773749,\n",
       "          0.04254898, -0.19976471],\n",
       "        [-0.04656942, -0.05549137,  0.0895547 , ...,  0.05383389,\n",
       "          0.001245  ,  0.00946557]], dtype=float32),\n",
       " array([[ 0.08052768,  0.04026814, -0.05649992, ..., -0.08845102,\n",
       "         -0.02363918,  0.23649459],\n",
       "        [ 0.00913776,  0.05853278,  0.00153111, ..., -0.01085028,\n",
       "         -0.00452256, -0.12064272],\n",
       "        [-0.20621261,  0.02738723, -0.16207892, ..., -0.03177763,\n",
       "          0.04249864,  0.01581833],\n",
       "        ...,\n",
       "        [-0.05767855,  0.03969741, -0.07073826, ..., -0.07429551,\n",
       "         -0.15204035,  0.04217402],\n",
       "        [-0.1516546 , -0.19049218, -0.05722629, ...,  0.0290435 ,\n",
       "         -0.05234267, -0.1610794 ],\n",
       "        [-0.12040576,  0.04516364, -0.00706799, ...,  0.06222945,\n",
       "         -0.00712925,  0.06033721]], dtype=float32),\n",
       " array([-0.00290058,  0.00897573, -0.01525601, -0.02751509, -0.00112879,\n",
       "         0.006163  , -0.05493207, -0.00141254,  0.02413334, -0.00139011,\n",
       "        -0.04933191, -0.0297213 , -0.02254585, -0.02503701, -0.01062081,\n",
       "         0.02030921, -0.02828334, -0.02622721, -0.03307854, -0.02010985,\n",
       "        -0.03211515, -0.04198669,  0.00814965,  0.01320211,  0.02285139,\n",
       "        -0.01016571,  0.00157307,  0.01433687, -0.01292418, -0.01153414,\n",
       "        -0.01699417, -0.02236829,  0.00869168, -0.02748132,  0.00691703,\n",
       "        -0.03094942,  0.00225031, -0.00951629, -0.01316236, -0.01380423,\n",
       "         0.0193017 , -0.02388213,  0.00692665, -0.0188767 , -0.02238076,\n",
       "         0.00275916, -0.0321565 , -0.00609176,  0.0083898 , -0.01572011,\n",
       "        -0.02702281, -0.02441273, -0.01249207, -0.01893588, -0.02525425,\n",
       "         0.00446397, -0.00867907, -0.0166736 , -0.01957296,  0.00537986,\n",
       "        -0.0284606 , -0.00546076,  0.00146253,  0.01323596, -0.02056683,\n",
       "        -0.00681575,  0.00736402,  0.00207587,  0.00353714,  0.0111827 ,\n",
       "        -0.02420271,  0.01680413, -0.02422055,  0.02269002, -0.03332167,\n",
       "         0.01529887, -0.01618332,  0.01232067, -0.01583287,  0.02249971,\n",
       "        -0.00663009,  0.01099115, -0.02113233, -0.00355697, -0.01720542,\n",
       "         0.03462119, -0.01437115, -0.02500962, -0.01428599, -0.04499195,\n",
       "        -0.02504605, -0.02349525, -0.01499012, -0.01908448, -0.01082792,\n",
       "        -0.03088824, -0.00837743, -0.00823808, -0.03277012, -0.01763484,\n",
       "         0.03215673, -0.01394051, -0.02523615, -0.02478173, -0.00173432,\n",
       "        -0.01640947, -0.00073218, -0.02062274, -0.01771304,  0.00582217,\n",
       "        -0.01060742,  0.00494711, -0.01439527,  0.00257225, -0.00812453,\n",
       "        -0.01564428, -0.03079999, -0.02730838,  0.0076869 , -0.01556098,\n",
       "        -0.01057081,  0.01949667,  0.00564559, -0.00953933, -0.01820984,\n",
       "         0.01062389,  0.00674061,  0.01953793], dtype=float32),\n",
       " array([[ 0.17624766],\n",
       "        [ 0.19516528],\n",
       "        [-0.61789   ],\n",
       "        [ 0.09870725],\n",
       "        [ 0.11319665],\n",
       "        [-0.40363523],\n",
       "        [-0.06583382],\n",
       "        [ 0.1317458 ],\n",
       "        [ 0.1868983 ],\n",
       "        [ 0.14093746],\n",
       "        [-0.15304722],\n",
       "        [-0.10222129],\n",
       "        [ 0.03901543],\n",
       "        [ 0.0177409 ],\n",
       "        [ 0.07778164],\n",
       "        [-0.5963777 ],\n",
       "        [-0.06414287],\n",
       "        [-0.06458534],\n",
       "        [ 0.05222318],\n",
       "        [-0.2095716 ],\n",
       "        [-0.10155147],\n",
       "        [ 0.01444164],\n",
       "        [ 0.27734154],\n",
       "        [ 0.1362721 ],\n",
       "        [-0.16572638],\n",
       "        [-0.08668897],\n",
       "        [-0.13297085],\n",
       "        [-0.48424312],\n",
       "        [ 0.13425997],\n",
       "        [-0.24764258],\n",
       "        [-0.14169565],\n",
       "        [ 0.16437402],\n",
       "        [ 0.176576  ],\n",
       "        [-0.18805923],\n",
       "        [ 0.13308448],\n",
       "        [-0.07067983],\n",
       "        [-0.03025052],\n",
       "        [ 0.0050878 ],\n",
       "        [ 0.16462687],\n",
       "        [-0.39458087],\n",
       "        [ 0.14757451],\n",
       "        [ 0.09097492],\n",
       "        [ 0.13532703],\n",
       "        [-0.11106904],\n",
       "        [ 0.1354053 ],\n",
       "        [ 0.15915862],\n",
       "        [-0.03132126],\n",
       "        [ 0.05411011],\n",
       "        [ 0.07622711],\n",
       "        [ 0.12331877],\n",
       "        [-0.06072759],\n",
       "        [-0.17681058],\n",
       "        [ 0.16099362],\n",
       "        [ 0.0405803 ],\n",
       "        [ 0.08093525],\n",
       "        [ 0.18155053],\n",
       "        [ 0.08043036],\n",
       "        [-0.16238698],\n",
       "        [-0.0690741 ],\n",
       "        [ 0.09592139],\n",
       "        [-0.15188187],\n",
       "        [ 0.10210264],\n",
       "        [-0.11712253],\n",
       "        [-0.42930937],\n",
       "        [ 0.04984961],\n",
       "        [-0.19013408],\n",
       "        [ 0.17015114],\n",
       "        [-0.20602806],\n",
       "        [ 0.12954684],\n",
       "        [-0.33740866],\n",
       "        [ 0.1987794 ],\n",
       "        [ 0.06811383],\n",
       "        [-0.1975277 ],\n",
       "        [-0.25532642],\n",
       "        [ 0.15071565],\n",
       "        [-0.32309607],\n",
       "        [-0.12559512],\n",
       "        [ 0.09187485],\n",
       "        [-0.00252188],\n",
       "        [ 0.3040341 ],\n",
       "        [-0.08812787],\n",
       "        [-0.3624784 ],\n",
       "        [ 0.19882567],\n",
       "        [ 0.19711515],\n",
       "        [ 0.05026853],\n",
       "        [ 0.10607098],\n",
       "        [-0.53733665],\n",
       "        [ 0.08765784],\n",
       "        [ 0.07881398],\n",
       "        [ 0.08305648],\n",
       "        [-0.17048977],\n",
       "        [ 0.01070682],\n",
       "        [ 0.06226501],\n",
       "        [-0.22219962],\n",
       "        [-0.23010007],\n",
       "        [-0.36239085],\n",
       "        [ 0.02798068],\n",
       "        [-0.40098435],\n",
       "        [ 0.17606331],\n",
       "        [-0.18158448],\n",
       "        [ 0.02569234],\n",
       "        [-0.30381608],\n",
       "        [ 0.03294009],\n",
       "        [-0.08142503],\n",
       "        [-0.35677832],\n",
       "        [ 0.0010493 ],\n",
       "        [ 0.0612379 ],\n",
       "        [ 0.20038162],\n",
       "        [-0.15321767],\n",
       "        [ 0.08606523],\n",
       "        [ 0.05857356],\n",
       "        [-0.27965805],\n",
       "        [-0.11213555],\n",
       "        [-0.00966658],\n",
       "        [-0.4452533 ],\n",
       "        [ 0.160501  ],\n",
       "        [ 0.02284197],\n",
       "        [ 0.05958249],\n",
       "        [ 0.05829961],\n",
       "        [ 0.11180066],\n",
       "        [ 0.6182077 ],\n",
       "        [-0.58510953],\n",
       "        [-0.03289605],\n",
       "        [-0.6141339 ],\n",
       "        [-0.43528736],\n",
       "        [-0.15801074],\n",
       "        [ 0.00091531],\n",
       "        [-0.14804654]], dtype=float32),\n",
       " array([0.35746264], dtype=float32)]"
      ]
     },
     "execution_count": 3,
     "metadata": {},
     "output_type": "execute_result"
    }
   ],
   "source": [
    "model.get_weights()"
   ]
  },
  {
   "cell_type": "code",
   "execution_count": 6,
   "id": "a06845a5-e80d-413e-927a-bf430ab25b16",
   "metadata": {},
   "outputs": [],
   "source": [
    "# Use the default parameters to keras.datasets.imdb.load_data\n",
    "start_char = 1\n",
    "oov_char = 2\n",
    "index_from = 3\n",
    "\n",
    "\n",
    "\n",
    "word_index = imdb.get_word_index()\n",
    "inverted_word_index = dict(\n",
    "    (i + 3, word) for (word, i) in word_index.items()\n",
    ")"
   ]
  },
  {
   "cell_type": "code",
   "execution_count": null,
   "id": "e810ef2c-5f47-4634-a552-82eff56c128d",
   "metadata": {},
   "outputs": [],
   "source": []
  },
  {
   "cell_type": "code",
   "execution_count": 14,
   "id": "8b6f888c-63e5-4307-8f2c-4ed3fc9e116f",
   "metadata": {},
   "outputs": [],
   "source": [
    "def encode_review(review):\n",
    "    encd_review = [word_index.get(word, oov_char) for word in review]\n",
    "    return encd_review"
   ]
  },
  {
   "cell_type": "code",
   "execution_count": 10,
   "id": "885c6283-6803-4ea0-aff1-ee5fb9bb10af",
   "metadata": {},
   "outputs": [],
   "source": [
    "max_len = 500"
   ]
  },
  {
   "cell_type": "code",
   "execution_count": 22,
   "id": "e7bc4eb7-9b6c-4e9e-93f5-40ee72d3083c",
   "metadata": {},
   "outputs": [],
   "source": [
    "def preprocess_review(review):\n",
    "    #Encode text to onehot\n",
    "    encd_review = encode_review(review)\n",
    "    #padding seq\n",
    "    seq = sequence.pad_sequences([encd_review] ,maxlen=max_len)\n",
    "\n",
    "    return seq"
   ]
  },
  {
   "cell_type": "code",
   "execution_count": 34,
   "id": "b782aac7-3581-4908-abdc-cdbefb9fe791",
   "metadata": {},
   "outputs": [],
   "source": [
    "def sentiment_predict(review):\n",
    "\n",
    "    seq = preprocess_review(review)\n",
    "    \n",
    "    prediction = model.predict(seq)\n",
    "\n",
    "    sentiment = 'Positive' if prediction[0][0] > 0.5 else 'Negative'\n",
    "    \n",
    "    return sentiment, prediction[0][0]"
   ]
  },
  {
   "cell_type": "code",
   "execution_count": 35,
   "id": "85df3508-82d5-47d3-8c24-a6e4d1e5239c",
   "metadata": {},
   "outputs": [
    {
     "data": {
      "text/plain": [
       "array([[   0,    0,    0,    0,    0,    0,    0,    0,    0,    0,    0,\n",
       "           0,    0,    0,    0,    0,    0,    0,    0,    0,    0,    0,\n",
       "           0,    0,    0,    0,    0,    0,    0,    0,    0,    0,   10,\n",
       "         587,    2,    3, 3360,    2,    3,  500,  587, 1601, 2011, 1203,\n",
       "         827,  960,    2, 1092,   10,  587,    3,  587,  827,  960, 1476,\n",
       "           2, 1206, 1476, 1601, 1980,    2,  587,  827,    3, 1476,  827,\n",
       "           2,  827, 1601,    2, 1206,   10, 3360,   10,  587, 2020,    2,\n",
       "           2,    2,    2,    2,    2,    2,    2,  827,  755,  587,    2,\n",
       "           3,    2, 1145, 1601, 1980, 1654, 2011,  960,  827,  960,    2,\n",
       "        1980,  960,  587,  587,    2, 1989,   10,  827, 2020,    2, 3360,\n",
       "        1601,    2, 1145, 1601, 2020,  960, 1476,  960, 3360,  827,    2,\n",
       "         587,  827, 1601, 1476, 5132,    2,  827, 1601,    2,  587, 1654,\n",
       "         960,    3, 2292,    2, 1601, 1206,    2,    2,    2,    2,    2,\n",
       "           2,    2,    2, 2020,  960,    2, 1654, 2011, 1601,  827,    2,\n",
       "          10,  587,    2, 1476,   10, 1092, 1092, 2011,  960, 1092,    2,\n",
       "        1989,   10,  827, 2020,    2,  827,   10, 1476,  960, 1092,    2,\n",
       "        1145, 2011,   10, 1145, 2020,    2,  587,    2,    3, 3360, 1092,\n",
       "           2, 2011,    3, 1203, 1328, 2020,    3,  500, 2011,  960,    2,\n",
       "        1092,   10,    3, 2011, 1601, 1328, 1203,  960,  587,    2,  827,\n",
       "        2020,    3,  827,    2,    3, 1476,  960,    2,  500, 1601, 1476,\n",
       "        1092,  960, 1476, 2011,   10, 3360,  960,    2, 1145, 1476,   10,\n",
       "        3360, 1328,  960,    2, 1989, 1601, 1476,  827, 2020, 5132,    2,\n",
       "           2,    2,    2,    2,    2,    2,    2,    2, 2020, 1601, 3360,\n",
       "         960,  587,  827, 2011, 5132,    2, 1092, 1601, 3360,  755,  827,\n",
       "           2, 1203, 3360, 1092,  960, 1476,  587,  827,    3, 3360, 1092,\n",
       "           2, 2020, 1601, 1989,    2,    3, 3360, 5132, 1601, 3360,  960,\n",
       "           2, 1989,   10,  827, 2020,    2,  960, 1961,  960, 3360,    2,\n",
       "           3,    2,  587, 2020, 1476,  960, 1092,    2, 1601, 1206,    2,\n",
       "        1145, 2011,    3,  587,  587,    2, 1145, 1601, 1203, 2011, 1092,\n",
       "           2,  587,   10,  827,    2,  827, 2020, 1476, 1601, 1203, 1328,\n",
       "        2020,    2,  827, 2020,   10,  587,    2,    2,    2,    2,    2,\n",
       "           2,    2,    2, 2020,  960,    2,    3, 1145,  827,   10, 3360,\n",
       "        1328,    2,   10,  587,    2,    2,    3,  827,    2,  500,  960,\n",
       "         587,  827,    2,    2,   10, 1476, 1476,   10,  827,    3,  827,\n",
       "          10, 3360, 1328,    2,    2,    3, 3360, 1092,    2,    3,  827,\n",
       "           2, 1989, 1601, 1476,  587,  827,    2,    2, 1203,  827,  827,\n",
       "         960, 1476, 2011, 5132,    2, 1476,  960, 1654, 1203, 2011,  587,\n",
       "          10, 1961,  960,    2,    2,    2,    2,    2,    2,    2,    2,\n",
       "         827,    2, 1206,  960,  960, 2011,  587,    2, 1980, 1601, 1476,\n",
       "         960,    2, 2011,   10, 2292,  960,    2, 1989,    3,  827, 1145,\n",
       "        2020,   10, 3360, 1328,    2,    3,    2, 2011, 1601, 1989,    2,\n",
       "         500, 1203, 1092, 1328,  960,  827,    2,    3, 1092, 1203, 2011,\n",
       "         827,    2, 1206,   10, 2011, 1980,    2, 1476,    3,  827, 2020,\n",
       "         960, 1476,    2,  827, 2020,    3, 3360,    2,    3,    2, 2011,\n",
       "         960, 1328,   10,  827,   10, 1980,    3,  827,  960,    2, 1980,\n",
       "        1601, 1961,   10,  960,    2]], dtype=int32)"
      ]
     },
     "execution_count": 35,
     "metadata": {},
     "output_type": "execute_result"
    }
   ],
   "source": [
    "review_text = \"\"\"is an absolute disaster from start to finish. \n",
    "    It's a complete mess with no coherent story to speak of. \n",
    "    The plot is riddled with tired clichés and laughable dialogues that are borderline cringe-worthy. \n",
    "    I honestly don't understand how anyone with even a shred of class could sit through this. \n",
    "    The acting is, at best, irritating, and at worst, utterly repulsive. \n",
    "    It feels more like watching a low-budget adult film rather than a legitimate movie.\"\"\"\n",
    "seq = preprocess_review(review_text)\n",
    "seq"
   ]
  },
  {
   "cell_type": "code",
   "execution_count": 37,
   "id": "2f5b715d-7e47-4448-b83f-a381992c5b3b",
   "metadata": {},
   "outputs": [
    {
     "name": "stdout",
     "output_type": "stream",
     "text": [
      "\u001b[1m1/1\u001b[0m \u001b[32m━━━━━━━━━━━━━━━━━━━━\u001b[0m\u001b[37m\u001b[0m \u001b[1m19s\u001b[0m 19s/step\n",
      "Sentiment : Positive\n",
      "Score : 0.531328022480011\n"
     ]
    }
   ],
   "source": [
    "sentiment, score = sentiment_predict(review_text)\n",
    "print(f\"Sentiment : {sentiment}\")\n",
    "print(f\"Score : {score}\")"
   ]
  }
 ],
 "metadata": {
  "kernelspec": {
   "display_name": "Python 3 (ipykernel)",
   "language": "python",
   "name": "python3"
  },
  "language_info": {
   "codemirror_mode": {
    "name": "ipython",
    "version": 3
   },
   "file_extension": ".py",
   "mimetype": "text/x-python",
   "name": "python",
   "nbconvert_exporter": "python",
   "pygments_lexer": "ipython3",
   "version": "3.9.6"
  }
 },
 "nbformat": 4,
 "nbformat_minor": 5
}
